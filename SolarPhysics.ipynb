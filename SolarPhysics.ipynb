{
 "metadata": {
  "name": ""
 },
 "nbformat": 3,
 "nbformat_minor": 0,
 "worksheets": [
  {
   "cells": [
    {
     "cell_type": "markdown",
     "metadata": {
      "slideshow": {
       "slide_type": "slide"
      }
     },
     "source": [
      "#Solar Physics - a bit more than an introduction\n",
      "\n",
      "David P\u00e9rez-Su\u00e1rez\n",
      "\n",
      "<img src=\"http://www.nasa.gov/sites/default/files/styles/946xvariable_height/public/multi_wavelength_feb_25_pre-flare_1.jpg?itok=leV_n8yJ\" style=\"height:300px;\">"
     ]
    },
    {
     "cell_type": "markdown",
     "metadata": {
      "slideshow": {
       "slide_type": "slide"
      }
     },
     "source": [
      "#The Sun, as a star\n",
      "\n",
      "![](http://solar-center.stanford.edu/SID/activities/images/sunearthpanel_sts129.jpg)\n"
     ]
    },
    {
     "cell_type": "markdown",
     "metadata": {
      "slideshow": {
       "slide_type": "subslide"
      }
     },
     "source": [
      "##Distance, Mass and Radius\n",
      "<img src=\"http://upload.wikimedia.org/wikipedia/commons/thumb/9/98/Kepler_laws_diagram.svg/630px-Kepler_laws_diagram.svg.png\" style=\"width: 400px;\"/>\n",
      "<img src=\"http://d1jqu7g1y74ds1.cloudfront.net/wp-content/uploads/2012/06/plane.jpg\" style=\"width: 400px;\"/>"
     ]
    },
    {
     "cell_type": "markdown",
     "metadata": {
      "slideshow": {
       "slide_type": "subslide"
      }
     },
     "source": [
      "##Lumminosity\n",
      "<img src=\"http://upload.wikimedia.org/wikipedia/commons/e/e7/Solar_spectrum_en.svg\" style=\"width: 550px;\"/>\n",
      "\n",
      "- Solar constant   => $ S = 1367 \\pm 2 \\, W/m^{2}$\n",
      "- Luminosity  => $ L_{\\odot} = 4 \\pi d_{\\odot\\oplus}^{2} \\times S = 3.85 \\times 10^{26}\\, W$\n"
     ]
    },
    {
     "cell_type": "markdown",
     "metadata": {
      "slideshow": {
       "slide_type": "fragment"
      }
     },
     "source": [
      "- Effective temperature  => $ L_{\\odot} = 4 \\pi R_{\\odot}^{2} \\sigma T_{eff}^{4} \\rightarrow T_{eff} = 5780\\,K$"
     ]
    },
    {
     "cell_type": "markdown",
     "metadata": {
      "slideshow": {
       "slide_type": "subslide"
      }
     },
     "source": [
      "##Where does the Sun stand?\n",
      "<img src='http://upload.wikimedia.org/wikipedia/commons/1/17/Hertzsprung-Russel_StarData.png'>"
     ]
    },
    {
     "cell_type": "markdown",
     "metadata": {
      "slideshow": {
       "slide_type": "slide"
      }
     },
     "source": [
      "##Solar Interior\n",
      "\n",
      "![](http://zebu.uoregon.edu/~imamura/122/images/solar_cutaway.jpg)"
     ]
    },
    {
     "cell_type": "markdown",
     "metadata": {
      "slideshow": {
       "slide_type": "subslide"
      }
     },
     "source": [
      "##Core\n",
      "\n",
      "<img src=\"http://upload.wikimedia.org/wikipedia/commons/7/78/FusionintheSun.svg\" style=\"width:300px;\">\n",
      "\n",
      "$$\\Delta E = \\Delta m c^{2} $$\n",
      "\n",
      "$$\\frac{L_{\\odot}}{\\Delta E} = N \\approx 10^{38}$$"
     ]
    },
    {
     "cell_type": "markdown",
     "metadata": {
      "slideshow": {
       "slide_type": "subslide"
      }
     },
     "source": [
      "##Radiative Zone\n",
      "###Photon mean free-path\n",
      "Mean free path for photon is given by\n",
      "$\\lambda = \\frac{1}{\\sigma_{T}<N_{e}>}$\n",
      "\n",
      "where:\n",
      "\n",
      "- $\\sigma_{T}$ is the [Thomson scattering cross section](http://en.wikipedia.org/wiki/Thomson_scattering) \n",
      "\n",
      "- $<N_{e^{-}}>$ is the mean electron number density. \n",
      "\n",
      "$<N_{e^{-}}> \\approx <N_{p^{+}}> \\approx \\frac{M_{\\odot}}{V_{\\odot}m_{p}}$\n",
      "\n",
      "Therfore: $\\lambda = 0.018\\,m$.\n",
      "\n",
      "The total number of [random walk](http://en.wikipedia.org/wiki/Random_walk) steps \n",
      "[for a photon to get to the solar surface](http://ds9.ssl.berkeley.edu/lws_gems/2/random.htm) is \n",
      "$$ N_{steps} = \\left(\\frac{R_{\\odot}}{\\lambda}\\right)^{2} = 1.5\\times 10^{21}$$\n",
      "\n",
      "A photon takes $\\lambda / c = 6\\times 10^{-11}\\,s$ to travel one step.\n",
      "\n",
      "So, to reach the surface:\n",
      "$t_{photon} = N_{steps} * t_{step} = 3\\,000\\,$years"
     ]
    },
    {
     "cell_type": "markdown",
     "metadata": {
      "slideshow": {
       "slide_type": "subslide"
      }
     },
     "source": [
      "##Convection Zone\n",
      "![](http://www.astro.utu.fi/~cflynn/Stars/blob.gif)"
     ]
    },
    {
     "cell_type": "markdown",
     "metadata": {
      "slideshow": {
       "slide_type": "subslide"
      }
     },
     "source": [
      "<iframe width=\"420\" height=\"315\" src=\"//www.youtube.com/embed/W_Scoj4HqCQ\" frameborder=\"0\" allowfullscreen></iframe>"
     ]
    },
    {
     "cell_type": "markdown",
     "metadata": {
      "slideshow": {
       "slide_type": "slide"
      }
     },
     "source": [
      "#Solar Atmosphere\n"
     ]
    },
    {
     "cell_type": "markdown",
     "metadata": {
      "slideshow": {
       "slide_type": "subslide"
      }
     },
     "source": [
      "##Photosphere\n",
      "\n",
      "<img src=\"http://apod.nasa.gov/apod/image/1101/eclipse110104_isstransit_legault800.jpg\" style=\"height:500px;\">\n",
      "<img src=\"http://solarmonitor.org/data/latest_images/chmi_06173_fd.png\" style=\"height:500px;\">\n"
     ]
    },
    {
     "cell_type": "markdown",
     "metadata": {
      "slideshow": {
       "slide_type": "subslide"
      }
     },
     "source": [
      "##Chromosphere\n",
      "<img src=\"http://upload.wikimedia.org/wikipedia/commons/thumb/9/9f/Solar_eclips_1999_5.jpg/600px-Solar_eclips_1999_5.jpg\" style=\"height:500px;\">\n",
      "<img src=\"http://solarmonitor.org/data/latest_images/bbso_halph_fd.png\" style=\"height:500px;\">\n"
     ]
    },
    {
     "cell_type": "markdown",
     "metadata": {
      "slideshow": {
       "slide_type": "subslide"
      }
     },
     "source": [
      "##Corona\n",
      "\n",
      "<img src=\"http://solar-center.stanford.edu/images/vojto1_pub_eclipse.jpg\" style=\"height:400px\">\n",
      "<img src=\"http://solarmonitor.org/data/latest_images/saia_00171_fd.png\" style=\"height:400px\">\n"
     ]
    },
    {
     "cell_type": "markdown",
     "metadata": {
      "slideshow": {
       "slide_type": "subslide"
      }
     },
     "source": [
      "##Termodynamic regimes\n",
      "\n",
      "* **Thermodynamic equilibrium (TE)** <br>\n",
      " It happens in complete equilibrium with radiation \u2013 a black body.\n",
      " Intensity of radiation = source function = $B\\nu (T)$. Applies in the deep solar interior. \n",
      "\n",
      "\n",
      "* **Local thermodynamic equilibrium (LTE)**<br>\n",
      " The thermodynamic equilibrium is defined by the local value of T. \n",
      " It happens in the solar photosphere, where radiation escapes and T changes, but slowly enough that LTE can be assumed.\n",
      "\n",
      "\n",
      "* **Non-LTE (NLTE)**<br>\n",
      " Material has a kinetic temperature T different from the temperature characterizing the radiation passing through it, \n",
      " and which interacts with it. Applies in the solar chromosphere. \n",
      "\n",
      "\n",
      "* **Coronal equilibrium**<br>\n",
      " Equilibrium controlled entirely by the interactions of ions and electrons of corona; \n",
      " photospheric radiation passes through coronal material without any effect. \n",
      " "
     ]
    },
    {
     "cell_type": "markdown",
     "metadata": {
      "slideshow": {
       "slide_type": "subslide"
      }
     },
     "source": [
      "##Overview\n",
      "<img src=\"http://ase.tufts.edu/cosmos/pictures/CambEncySun/Sun_ency_figs_5/Lang_rev10_5/Fig5_24r.jpg\" style=\"width:500px;\">"
     ]
    },
    {
     "cell_type": "markdown",
     "metadata": {
      "slideshow": {
       "slide_type": "slide"
      }
     },
     "source": [
      "#Solar Wind"
     ]
    },
    {
     "cell_type": "markdown",
     "metadata": {
      "slideshow": {
       "slide_type": "subslide"
      }
     },
     "source": [
      "![](http://upload.wikimedia.org/wikipedia/commons/thumb/d/df/Comet-Hale-Bopp-29-03-1997_hires_adj.jpg/460px-Comet-Hale-Bopp-29-03-1997_hires_adj.jpg)"
     ]
    },
    {
     "cell_type": "markdown",
     "metadata": {
      "slideshow": {
       "slide_type": "subslide"
      }
     },
     "source": [
      "![](http://upload.wikimedia.org/wikipedia/commons/c/cb/Cometorbit.png)"
     ]
    },
    {
     "cell_type": "markdown",
     "metadata": {
      "slideshow": {
       "slide_type": "subslide"
      }
     },
     "source": [
      "##Calculate the solar wind speed\n",
      "\n",
      "**Problem**: A comet's ion tail deviates by $4^{\\circ}$ from the radial direction. Its transverse orbital velocity is $30\\,$km/s.\n",
      " What is the speed of the solar wind? Is it sub or supersonic?"
     ]
    },
    {
     "cell_type": "markdown",
     "metadata": {
      "slideshow": {
       "slide_type": "fragment"
      }
     },
     "source": [
      "$$ \\tan \\alpha = \\frac{v_{tr}}{v_{sw}} $$\n",
      "\n",
      "$$ v_{sw} = \\frac{v_{tr}}{\\tan \\alpha} $$\n",
      "\n",
      "$$ v_{sw} = 30 / \\tan 4^{\\circ} \\sim 430 km/s$$"
     ]
    },
    {
     "cell_type": "markdown",
     "metadata": {
      "slideshow": {
       "slide_type": "fragment"
      }
     },
     "source": [
      "$$ c_{s} = \\left( \\frac{P \\gamma}{\\rho}\\right)^{\\frac{1}{2}}  =  \\left( \\frac{RT\\gamma}{\\mu}\\right)^{\\frac{1}{2}}$$\n",
      "\n",
      "$$\\gamma = 5/3 \\,, \\mu = 1/2 \\,, T = 10^{5}K$$\n",
      "\n",
      "$$ c_{s} = 50\\,km/s $$"
     ]
    },
    {
     "cell_type": "markdown",
     "metadata": {
      "slideshow": {
       "slide_type": "subslide"
      }
     },
     "source": [
      "## Parker's contribution\n",
      "\n",
      "$$\\frac{dp}{dr} = - \\frac{GM_{\\odot}\\rho}{r^{2}} $$\n",
      "\n",
      "$$ p =  nk(T_{e} + T_{p}) = 2nkT $$ and $$ \\rho = n(m_{e} + m_{p}) = nm = \\frac{mp}{2kT} $$\n",
      "\n",
      "$$ \\frac{1}{p}\\frac{dp}{dr} = - \\frac{GM_{\\odot}m}{2kT}\\frac{1}{r^{2}} $$"
     ]
    },
    {
     "cell_type": "markdown",
     "metadata": {
      "slideshow": {
       "slide_type": "fragment"
      }
     },
     "source": [
      "$$p(r) = p_{0} \\exp \\left\\{ \\frac{GM_{\\odot}m}{2kT} \\left( \\frac{1}{r} - \\frac{1}{R_{\\odot}} \\right)\\right\\}$$"
     ]
    },
    {
     "cell_type": "markdown",
     "metadata": {
      "slideshow": {
       "slide_type": "fragment"
      }
     },
     "source": [
      "$$\\rho v \\frac{dv}{dr} = -2kT\\frac{dn}{dr} - \\rho \\frac{GM_{\\odot}}{r^{2}}$$"
     ]
    },
    {
     "cell_type": "markdown",
     "metadata": {
      "slideshow": {
       "slide_type": "subslide"
      }
     },
     "source": [
      "<img src=\"http://solarscience.msfc.nasa.gov/people/suess/SolarProbe/dial%28ult%29.jpg\" style=\"width:500px;\">"
     ]
    },
    {
     "cell_type": "markdown",
     "metadata": {
      "slideshow": {
       "slide_type": "notes"
      }
     },
     "source": [
      "T_e low => T_H high => fast solar wind"
     ]
    },
    {
     "cell_type": "markdown",
     "metadata": {
      "slideshow": {
       "slide_type": "slide"
      }
     },
     "source": [
      "#Solar Rotation"
     ]
    },
    {
     "cell_type": "markdown",
     "metadata": {
      "slideshow": {
       "slide_type": "subslide"
      }
     },
     "source": [
      "![](./images/GalileoSunspots.gif)\n"
     ]
    },
    {
     "cell_type": "markdown",
     "metadata": {
      "slideshow": {
       "slide_type": "subslide"
      }
     },
     "source": [
      "![](./images/Rotation.gif)\n"
     ]
    },
    {
     "cell_type": "markdown",
     "metadata": {
      "slideshow": {
       "slide_type": "slide"
      }
     },
     "source": [
      "#Magnetic Field"
     ]
    },
    {
     "cell_type": "markdown",
     "metadata": {
      "slideshow": {
       "slide_type": "subslide"
      }
     },
     "source": [
      "<video width=\"650px\" height=\"400px\" loop=\"loop\" preload=\"auto\" poster=\"http://spark.ucar.edu/sites/default/files/video/posterframes/Create%20Video/sun_mag_field_rotate_tangle_poster_frame_400x300.jpg\" controls=\"controls\">\n",
      "<source src=\"http://video.ucar.edu/eo/sparkSite/video/ogg/sun_mag_field_rotate_tangle_400x300.ogg\" type=\"video/ogg\">\n",
      "</video>"
     ]
    },
    {
     "cell_type": "markdown",
     "metadata": {
      "slideshow": {
       "slide_type": "subslide"
      }
     },
     "source": [
      "<img src=\"./images/MagneticField.png\" style=\"height:300px;\"><img src=\"./images/BallerinaModel.png\" style=\"height:300px;\">\n"
     ]
    },
    {
     "cell_type": "markdown",
     "metadata": {
      "slideshow": {
       "slide_type": "subslide"
      }
     },
     "source": [
      "<img src=\"http://upload.wikimedia.org/wikipedia/commons/b/b6/Heliospheric-current-sheet.gif\" style=\"width:600px;\">"
     ]
    },
    {
     "cell_type": "markdown",
     "metadata": {
      "slideshow": {
       "slide_type": "slide"
      }
     },
     "source": [
      "#Solar Activity"
     ]
    },
    {
     "cell_type": "markdown",
     "metadata": {
      "slideshow": {
       "slide_type": "subslide"
      }
     },
     "source": [
      "##Sunspots\n",
      "![](http://www.stce.be/newsletter/images/2013/14SunspotsPicture2.png)"
     ]
    },
    {
     "cell_type": "markdown",
     "metadata": {
      "slideshow": {
       "slide_type": "subslide"
      }
     },
     "source": [
      "![](https://www.windows2universe.org/sun/images/sunspot_horseshoe_magnet_sm.jpg)"
     ]
    },
    {
     "cell_type": "markdown",
     "metadata": {
      "slideshow": {
       "slide_type": "subslide"
      }
     },
     "source": [
      "<img src=\"http://upload.wikimedia.org/wikipedia/commons/9/9e/Sunspot_butterfly_graph.gif\" style=\"width:800px;\">"
     ]
    },
    {
     "cell_type": "markdown",
     "metadata": {
      "slideshow": {
       "slide_type": "subslide"
      }
     },
     "source": [
      "![](http://solar-center.stanford.edu/images/890407.gif)"
     ]
    },
    {
     "cell_type": "markdown",
     "metadata": {
      "slideshow": {
       "slide_type": "subslide"
      }
     },
     "source": [
      "###Sunspots classification (McIntosh)\n",
      "\n",
      "![](http://i.imgur.com/1pZorX0.gif)"
     ]
    },
    {
     "cell_type": "markdown",
     "metadata": {
      "slideshow": {
       "slide_type": "subslide"
      }
     },
     "source": [
      "##Solar Flares\n",
      "\n",
      "![](./images/FlaresModels.png)"
     ]
    },
    {
     "cell_type": "markdown",
     "metadata": {
      "slideshow": {
       "slide_type": "subslide"
      }
     },
     "source": [
      "###Solar Flares Classification (X-Ray)\n",
      "\n",
      "![](http://solarmonitor.org/data/2003/10/30/pngs/goes/goes_xrays_20031030.png)"
     ]
    },
    {
     "cell_type": "markdown",
     "metadata": {
      "slideshow": {
       "slide_type": "subslide"
      }
     },
     "source": [
      "###Flare steps\n",
      "![](./images/FlareStages.png)"
     ]
    },
    {
     "cell_type": "markdown",
     "metadata": {
      "slideshow": {
       "slide_type": "subslide"
      }
     },
     "source": [
      "##Coronal Mass Ejections\n",
      "\n",
      "![](http://soho.nascom.nasa.gov/bestofsoho/images/large/las02_prev.jpg)"
     ]
    },
    {
     "cell_type": "markdown",
     "metadata": {
      "slideshow": {
       "slide_type": "subslide"
      }
     },
     "source": [
      "<video width=\"600px\" height=\"400px\" controls=\"controls\">\n",
      "<source src=\"./videos/hafv2_ecimf_2011-06-07_event_movie_PFSS.ogg\" type=\"video/ogg\">\n",
      "</video>"
     ]
    },
    {
     "cell_type": "markdown",
     "metadata": {
      "slideshow": {
       "slide_type": "subslide"
      }
     },
     "source": [
      "![](http://spaceweather.uma.es/images/figura1bc.JPG)"
     ]
    },
    {
     "cell_type": "markdown",
     "metadata": {
      "slideshow": {
       "slide_type": "subslide"
      }
     },
     "source": [
      "![](http://www.starfiretor.com/CoreMatrix/PIX/CME_2013_30-05_M1,2-Halo_Sunspot-1686.jpg)"
     ]
    },
    {
     "cell_type": "markdown",
     "metadata": {
      "slideshow": {
       "slide_type": "subslide"
      }
     },
     "source": [
      "##Coronal Holes\n",
      "<iframe src=\"//commons.wikimedia.org/wiki/File:SDO_Observes_Large_Coronal_Hole.ogg?embedplayer=yes\" width=\"854\" height=\"480\" frameborder=\"0\" webkitAllowFullScreen mozallowfullscreen allowFullScreen></iframe>"
     ]
    },
    {
     "cell_type": "markdown",
     "metadata": {
      "slideshow": {
       "slide_type": "slide"
      }
     },
     "source": [
      "#Observing the Sun\n",
      "<img src=\"http://www.nasa.gov/images/content/753965main_hso-fleet_full.jpg\" style=\"height:600px;\">"
     ]
    },
    {
     "cell_type": "markdown",
     "metadata": {
      "slideshow": {
       "slide_type": "subslide"
      }
     },
     "source": [
      "<img src=\"http://upload.wikimedia.org/wikipedia/commons/3/34/Atmospheric_electromagnetic_opacity.svg\" style=\"height:400px;\">"
     ]
    },
    {
     "cell_type": "markdown",
     "metadata": {
      "slideshow": {
       "slide_type": "subslide"
      }
     },
     "source": [
      "##Imagers\n",
      "\n",
      "<img src=\"http://www.solarphysics.kva.se/data1/NatGeo/14Aug2003_4364.61-63_color.jpg\" style=\"height:250px;\">\n",
      "<img src=\"http://www.solarphysics.kva.se/data1/NatGeo/halpha_22Aug2003_AR.9575.MFBD_color.jpg\" style=\"height:250px;\">\n",
      "<img src=\"http://www.stce.be/newsletter/images/2012/35SolarActivityPicture3.png\" style=\"height:250px;\">"
     ]
    },
    {
     "cell_type": "markdown",
     "metadata": {
      "slideshow": {
       "slide_type": "subslide"
      }
     },
     "source": [
      "##Spectrometers\n",
      "\n",
      "<img src=\"http://solarb.mssl.ucl.ac.uk/SolarB/DEV/eis_gifs/2007/01/10/eis_l0_20070110_040427.fits/eis_l0_20070110_040427.fits_line_02_CCDASHRT_0_257.020.int.gif\" style=\"height:400px;\">\n",
      "<img src=\"http://ej.iop.org/images/0004-637X/724/1/640/Full/apj369539f4_lr.jpg\" style=\"height:400px;\">"
     ]
    },
    {
     "cell_type": "markdown",
     "metadata": {
      "slideshow": {
       "slide_type": "subslide"
      }
     },
     "source": [
      "## Magnetometer / Spectropolarimeter\n",
      "<img src=\"http://hmi.stanford.edu/hminuggets/wp-content/uploads/2014/01/HMI_545_cropped.jpg\" style=\"height:300px;\">\n",
      "<img src=\"http://www2.ifa.hawaii.edu/newsletters/images/33solarmagneticfield.jpg\" style=\"height:300px;\">"
     ]
    },
    {
     "cell_type": "markdown",
     "metadata": {
      "slideshow": {
       "slide_type": "subslide"
      }
     },
     "source": [
      "##Radio\n",
      "\n",
      "<img src=\"https://www.tcd.ie/Physics/Astrophysics/images/carley_nature.jpg\" style=\"height:300px;\">\n",
      "<img src=\"http://www.astro.uni.torun.pl/~magda/EVN_NEWSLETTER/October10/lofar_sun_first.png\" style=\"height:300px;\">"
     ]
    },
    {
     "cell_type": "markdown",
     "metadata": {
      "slideshow": {
       "slide_type": "subslide"
      }
     },
     "source": [
      "##In-situ\n",
      "<img src=\"http://www.swpc.noaa.gov/ace/Swepam_3d.gif\" style=\"width:400px\">\n",
      "<img src=\"http://www.swpc.noaa.gov/ace/Mag_3d.gif\" style=\"width:400px\">\n"
     ]
    },
    {
     "cell_type": "markdown",
     "metadata": {
      "slideshow": {
       "slide_type": "subslide"
      }
     },
     "source": [
      "##STEREO\n",
      "<img src=\"http://stereo.sr.unh.edu/gallery/heliocentric_orbits.gif\" style=\"width:700px;\">"
     ]
    }
   ],
   "metadata": {}
  }
 ]
}